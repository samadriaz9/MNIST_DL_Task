{
 "cells": [
  {
   "cell_type": "markdown",
   "metadata": {},
   "source": [
    "## Model Training on Custom Mnist Dataset "
   ]
  },
  {
   "cell_type": "code",
   "execution_count": 2,
   "metadata": {},
   "outputs": [],
   "source": [
    "import tensorflow as tf\n",
    "from tensorflow.keras.preprocessing import image_dataset_from_directory"
   ]
  },
  {
   "cell_type": "code",
   "execution_count": 3,
   "metadata": {},
   "outputs": [],
   "source": [
    "dataset_path = \"dataset\""
   ]
  },
  {
   "cell_type": "code",
   "execution_count": 5,
   "metadata": {},
   "outputs": [
    {
     "name": "stdout",
     "output_type": "stream",
     "text": [
      "Found 3558 files belonging to 10 classes.\n",
      "Using 2847 files for training.\n",
      "Found 3558 files belonging to 10 classes.\n",
      "Using 711 files for validation.\n"
     ]
    }
   ],
   "source": [
    "def preprocess_image(image, label):\n",
    "    image = tf.image.rgb_to_grayscale(image)\n",
    "    image = tf.image.convert_image_dtype(image, tf.float32)  # Normalize to [0, 1]\n",
    "    return image, label\n",
    "\n",
    "# Load the training dataset\n",
    "train_dataset = image_dataset_from_directory(\n",
    "    dataset_path,\n",
    "    validation_split=0.2,  # 20% of data for validation\n",
    "    subset=\"training\",\n",
    "    seed=123,\n",
    "    image_size=(28, 28),\n",
    "    batch_size=32,\n",
    "    color_mode='rgb'  # Load images as RGB\n",
    ")\n",
    "\n",
    "# Load the validation dataset\n",
    "validation_dataset = image_dataset_from_directory(\n",
    "    dataset_path,\n",
    "    validation_split=0.2,  # 20% of data for validation\n",
    "    subset=\"validation\",\n",
    "    seed=123,\n",
    "    image_size=(28, 28),\n",
    "    batch_size=32,\n",
    "    color_mode='rgb'  # Load images as RGB\n",
    ")"
   ]
  },
  {
   "cell_type": "code",
   "execution_count": 6,
   "metadata": {},
   "outputs": [],
   "source": [
    "# Apply the preprocessing function to convert to grayscale and normalize\n",
    "train_dataset = train_dataset.map(preprocess_image)\n",
    "validation_dataset = validation_dataset.map(preprocess_image)"
   ]
  },
  {
   "cell_type": "code",
   "execution_count": 7,
   "metadata": {},
   "outputs": [
    {
     "name": "stdout",
     "output_type": "stream",
     "text": [
      "(32, 28, 28, 1)\n",
      "tf.Tensor(5.0254965, shape=(), dtype=float32) tf.Tensor(199.89449, shape=(), dtype=float32)\n"
     ]
    }
   ],
   "source": [
    "for images, labels in train_dataset.take(1):\n",
    "    print(images.shape)  # Should be (batch_size, 28, 28, 1) after conversion to grayscale\n",
    "    print(tf.reduce_min(images), tf.reduce_max(images))  # Should be between 0 and 1\n"
   ]
  },
  {
   "cell_type": "code",
   "execution_count": 12,
   "metadata": {},
   "outputs": [
    {
     "name": "stdout",
     "output_type": "stream",
     "text": [
      "Model: \"sequential_2\"\n",
      "_________________________________________________________________\n",
      " Layer (type)                Output Shape              Param #   \n",
      "=================================================================\n",
      " conv2d_5 (Conv2D)           (None, 26, 26, 32)        320       \n",
      "                                                                 \n",
      " max_pooling2d_5 (MaxPoolin  (None, 13, 13, 32)        0         \n",
      " g2D)                                                            \n",
      "                                                                 \n",
      " conv2d_6 (Conv2D)           (None, 11, 11, 64)        18496     \n",
      "                                                                 \n",
      " max_pooling2d_6 (MaxPoolin  (None, 5, 5, 64)          0         \n",
      " g2D)                                                            \n",
      "                                                                 \n",
      " flatten_2 (Flatten)         (None, 1600)              0         \n",
      "                                                                 \n",
      " dense_4 (Dense)             (None, 128)               204928    \n",
      "                                                                 \n",
      " dense_5 (Dense)             (None, 10)                1290      \n",
      "                                                                 \n",
      "=================================================================\n",
      "Total params: 225034 (879.04 KB)\n",
      "Trainable params: 225034 (879.04 KB)\n",
      "Non-trainable params: 0 (0.00 Byte)\n",
      "_________________________________________________________________\n"
     ]
    }
   ],
   "source": [
    "from tensorflow.keras import layers, models\n",
    "\n",
    "# Create a simple sequential model\n",
    "model = models.Sequential([\n",
    "    layers.Conv2D(32, (3, 3), activation='relu', input_shape=(28, 28, 1)),\n",
    "    layers.MaxPooling2D((2, 2)),\n",
    "    layers.Conv2D(64, (3, 3), activation='relu'),\n",
    "    layers.MaxPooling2D((2, 2)),\n",
    "    layers.Flatten(),\n",
    "    layers.Dense(128, activation='relu'),\n",
    "    layers.Dense(10, activation='softmax')  # Assuming 10 classes\n",
    "])\n",
    "\n",
    "# Compile the model\n",
    "model.compile(optimizer='adam',\n",
    "              loss='sparse_categorical_crossentropy',\n",
    "              metrics=['accuracy'])\n",
    "\n",
    "# Print model summary\n",
    "model.summary()\n"
   ]
  },
  {
   "cell_type": "code",
   "execution_count": 13,
   "metadata": {},
   "outputs": [
    {
     "name": "stdout",
     "output_type": "stream",
     "text": [
      "Epoch 1/20\n",
      "89/89 [==============================] - 3s 24ms/step - loss: 5.3845 - accuracy: 0.1992 - val_loss: 1.8898 - val_accuracy: 0.3235\n",
      "Epoch 2/20\n",
      "89/89 [==============================] - 2s 23ms/step - loss: 1.4341 - accuracy: 0.4991 - val_loss: 1.2190 - val_accuracy: 0.5513\n",
      "Epoch 3/20\n",
      "89/89 [==============================] - 2s 23ms/step - loss: 0.9025 - accuracy: 0.7004 - val_loss: 0.8198 - val_accuracy: 0.7229\n",
      "Epoch 4/20\n",
      "89/89 [==============================] - 2s 24ms/step - loss: 0.5566 - accuracy: 0.8166 - val_loss: 0.6558 - val_accuracy: 0.7764\n",
      "Epoch 5/20\n",
      "89/89 [==============================] - 2s 23ms/step - loss: 0.3232 - accuracy: 0.9017 - val_loss: 0.4238 - val_accuracy: 0.8579\n",
      "Epoch 6/20\n",
      "89/89 [==============================] - 2s 24ms/step - loss: 0.1896 - accuracy: 0.9449 - val_loss: 0.3595 - val_accuracy: 0.8805\n",
      "Epoch 7/20\n",
      "89/89 [==============================] - 2s 24ms/step - loss: 0.1171 - accuracy: 0.9656 - val_loss: 0.3895 - val_accuracy: 0.8847\n",
      "Epoch 8/20\n",
      "89/89 [==============================] - 2s 23ms/step - loss: 0.0939 - accuracy: 0.9737 - val_loss: 0.3254 - val_accuracy: 0.9015\n",
      "Epoch 9/20\n",
      "89/89 [==============================] - 2s 24ms/step - loss: 0.0585 - accuracy: 0.9852 - val_loss: 0.3389 - val_accuracy: 0.9100\n",
      "Epoch 10/20\n",
      "89/89 [==============================] - 2s 24ms/step - loss: 0.0470 - accuracy: 0.9888 - val_loss: 0.3629 - val_accuracy: 0.9044\n",
      "Epoch 11/20\n",
      "89/89 [==============================] - 2s 24ms/step - loss: 0.0485 - accuracy: 0.9860 - val_loss: 0.4117 - val_accuracy: 0.8833\n",
      "Epoch 12/20\n",
      "89/89 [==============================] - 2s 24ms/step - loss: 0.0595 - accuracy: 0.9821 - val_loss: 0.3032 - val_accuracy: 0.9198\n",
      "Epoch 13/20\n",
      "89/89 [==============================] - 2s 24ms/step - loss: 0.0307 - accuracy: 0.9930 - val_loss: 0.2606 - val_accuracy: 0.9339\n",
      "Epoch 14/20\n",
      "89/89 [==============================] - 2s 24ms/step - loss: 0.0130 - accuracy: 0.9972 - val_loss: 0.2639 - val_accuracy: 0.9409\n",
      "Epoch 15/20\n",
      "89/89 [==============================] - 2s 24ms/step - loss: 0.0085 - accuracy: 0.9979 - val_loss: 0.2730 - val_accuracy: 0.9395\n",
      "Epoch 16/20\n",
      "89/89 [==============================] - 2s 24ms/step - loss: 0.0078 - accuracy: 0.9975 - val_loss: 0.2702 - val_accuracy: 0.9395\n",
      "Epoch 17/20\n",
      "89/89 [==============================] - 2s 24ms/step - loss: 0.0065 - accuracy: 0.9982 - val_loss: 0.2762 - val_accuracy: 0.9353\n",
      "Epoch 18/20\n",
      "89/89 [==============================] - 2s 25ms/step - loss: 0.0055 - accuracy: 0.9979 - val_loss: 0.2823 - val_accuracy: 0.9367\n",
      "Epoch 19/20\n",
      "89/89 [==============================] - 2s 24ms/step - loss: 0.0046 - accuracy: 0.9986 - val_loss: 0.2814 - val_accuracy: 0.9339\n",
      "Epoch 20/20\n",
      "89/89 [==============================] - 2s 24ms/step - loss: 0.0039 - accuracy: 0.9986 - val_loss: 0.2916 - val_accuracy: 0.9367\n"
     ]
    }
   ],
   "source": [
    "# Train the model\n",
    "history = model.fit(\n",
    "    train_dataset,\n",
    "    validation_data=validation_dataset,\n",
    "    epochs=20  # Adjust the number of epochs as needed\n",
    ")\n"
   ]
  },
  {
   "cell_type": "code",
   "execution_count": 14,
   "metadata": {},
   "outputs": [
    {
     "name": "stderr",
     "output_type": "stream",
     "text": [
      "c:\\Users\\ncai\\anaconda3\\envs\\yolo_gpu\\lib\\site-packages\\keras\\src\\engine\\training.py:3000: UserWarning: You are saving your model as an HDF5 file via `model.save()`. This file format is considered legacy. We recommend using instead the native Keras format, e.g. `model.save('my_model.keras')`.\n",
      "  saving_api.save_model(\n"
     ]
    }
   ],
   "source": [
    "model.save('custom_mnist_model.h5')"
   ]
  },
  {
   "cell_type": "markdown",
   "metadata": {},
   "source": [
    "## Model Training on Mnist dataset"
   ]
  },
  {
   "cell_type": "code",
   "execution_count": 15,
   "metadata": {},
   "outputs": [
    {
     "name": "stdout",
     "output_type": "stream",
     "text": [
      "Model: \"sequential_3\"\n",
      "_________________________________________________________________\n",
      " Layer (type)                Output Shape              Param #   \n",
      "=================================================================\n",
      " conv2d_7 (Conv2D)           (None, 26, 26, 32)        320       \n",
      "                                                                 \n",
      " max_pooling2d_7 (MaxPoolin  (None, 13, 13, 32)        0         \n",
      " g2D)                                                            \n",
      "                                                                 \n",
      " conv2d_8 (Conv2D)           (None, 11, 11, 64)        18496     \n",
      "                                                                 \n",
      " max_pooling2d_8 (MaxPoolin  (None, 5, 5, 64)          0         \n",
      " g2D)                                                            \n",
      "                                                                 \n",
      " flatten_3 (Flatten)         (None, 1600)              0         \n",
      "                                                                 \n",
      " dense_6 (Dense)             (None, 128)               204928    \n",
      "                                                                 \n",
      " dense_7 (Dense)             (None, 10)                1290      \n",
      "                                                                 \n",
      "=================================================================\n",
      "Total params: 225034 (879.04 KB)\n",
      "Trainable params: 225034 (879.04 KB)\n",
      "Non-trainable params: 0 (0.00 Byte)\n",
      "_________________________________________________________________\n",
      "Epoch 1/20\n",
      "1875/1875 [==============================] - 16s 8ms/step - loss: 0.1267 - accuracy: 0.9606 - val_loss: 0.0556 - val_accuracy: 0.9820\n",
      "Epoch 2/20\n",
      "1875/1875 [==============================] - 15s 8ms/step - loss: 0.0433 - accuracy: 0.9866 - val_loss: 0.0400 - val_accuracy: 0.9869\n",
      "Epoch 3/20\n",
      "1875/1875 [==============================] - 16s 8ms/step - loss: 0.0289 - accuracy: 0.9912 - val_loss: 0.0360 - val_accuracy: 0.9878\n",
      "Epoch 4/20\n",
      "1875/1875 [==============================] - 15s 8ms/step - loss: 0.0204 - accuracy: 0.9933 - val_loss: 0.0290 - val_accuracy: 0.9916\n",
      "Epoch 5/20\n",
      "1875/1875 [==============================] - 15s 8ms/step - loss: 0.0157 - accuracy: 0.9948 - val_loss: 0.0311 - val_accuracy: 0.9915\n",
      "Epoch 6/20\n",
      "1875/1875 [==============================] - 15s 8ms/step - loss: 0.0124 - accuracy: 0.9959 - val_loss: 0.0306 - val_accuracy: 0.9912\n",
      "Epoch 7/20\n",
      "1875/1875 [==============================] - 16s 8ms/step - loss: 0.0099 - accuracy: 0.9966 - val_loss: 0.0419 - val_accuracy: 0.9888\n",
      "Epoch 8/20\n",
      "1875/1875 [==============================] - 15s 8ms/step - loss: 0.0082 - accuracy: 0.9972 - val_loss: 0.0364 - val_accuracy: 0.9907\n",
      "Epoch 9/20\n",
      "1875/1875 [==============================] - 15s 8ms/step - loss: 0.0070 - accuracy: 0.9976 - val_loss: 0.0427 - val_accuracy: 0.9895\n",
      "Epoch 10/20\n",
      "1875/1875 [==============================] - 15s 8ms/step - loss: 0.0069 - accuracy: 0.9978 - val_loss: 0.0362 - val_accuracy: 0.9914\n",
      "Epoch 11/20\n",
      "1875/1875 [==============================] - 15s 8ms/step - loss: 0.0054 - accuracy: 0.9984 - val_loss: 0.0364 - val_accuracy: 0.9904\n",
      "Epoch 12/20\n",
      "1875/1875 [==============================] - 15s 8ms/step - loss: 0.0043 - accuracy: 0.9985 - val_loss: 0.0441 - val_accuracy: 0.9906\n",
      "Epoch 13/20\n",
      "1875/1875 [==============================] - 15s 8ms/step - loss: 0.0051 - accuracy: 0.9983 - val_loss: 0.0376 - val_accuracy: 0.9918\n",
      "Epoch 14/20\n",
      "1875/1875 [==============================] - 15s 8ms/step - loss: 0.0039 - accuracy: 0.9986 - val_loss: 0.0520 - val_accuracy: 0.9900\n",
      "Epoch 15/20\n",
      "1875/1875 [==============================] - 15s 8ms/step - loss: 0.0049 - accuracy: 0.9983 - val_loss: 0.0467 - val_accuracy: 0.9916\n",
      "Epoch 16/20\n",
      "1875/1875 [==============================] - 15s 8ms/step - loss: 0.0037 - accuracy: 0.9986 - val_loss: 0.0571 - val_accuracy: 0.9892\n",
      "Epoch 17/20\n",
      "1875/1875 [==============================] - 15s 8ms/step - loss: 0.0033 - accuracy: 0.9990 - val_loss: 0.0625 - val_accuracy: 0.9884\n",
      "Epoch 18/20\n",
      "1875/1875 [==============================] - 15s 8ms/step - loss: 0.0032 - accuracy: 0.9989 - val_loss: 0.0457 - val_accuracy: 0.9916\n",
      "Epoch 19/20\n",
      "1875/1875 [==============================] - 15s 8ms/step - loss: 0.0040 - accuracy: 0.9987 - val_loss: 0.0532 - val_accuracy: 0.9912\n",
      "Epoch 20/20\n",
      "1875/1875 [==============================] - 15s 8ms/step - loss: 0.0025 - accuracy: 0.9993 - val_loss: 0.0873 - val_accuracy: 0.9861\n"
     ]
    }
   ],
   "source": [
    "from tensorflow.keras.datasets import mnist\n",
    "from tensorflow.keras import layers, models\n",
    "\n",
    "# Load the MNIST dataset\n",
    "(train_images, train_labels), (test_images, test_labels) = mnist.load_data()\n",
    "\n",
    "# Normalize and reshape the data\n",
    "train_images = train_images.reshape((60000, 28, 28, 1)).astype('float32') / 255\n",
    "test_images = test_images.reshape((10000, 28, 28, 1)).astype('float32') / 255\n",
    "\n",
    "# Create the model\n",
    "model = models.Sequential([\n",
    "    layers.Conv2D(32, (3, 3), activation='relu', input_shape=(28, 28, 1)),\n",
    "    layers.MaxPooling2D((2, 2)),\n",
    "    layers.Conv2D(64, (3, 3), activation='relu'),\n",
    "    layers.MaxPooling2D((2, 2)),\n",
    "    layers.Flatten(),\n",
    "    layers.Dense(128, activation='relu'),\n",
    "    layers.Dense(10, activation='softmax')  # Assuming 10 classes\n",
    "])\n",
    "\n",
    "# Compile the model\n",
    "model.compile(optimizer='adam',\n",
    "              loss='sparse_categorical_crossentropy',\n",
    "              metrics=['accuracy'])\n",
    "\n",
    "# Print model summary\n",
    "model.summary()\n",
    "\n",
    "# Train the model\n",
    "history = model.fit(train_images, train_labels, epochs=20, batch_size=32, validation_data=(test_images, test_labels))\n"
   ]
  },
  {
   "cell_type": "code",
   "execution_count": 16,
   "metadata": {},
   "outputs": [],
   "source": [
    "model.save('mnist_model.h5')"
   ]
  },
  {
   "cell_type": "markdown",
   "metadata": {},
   "source": [
    "## Cross Validdation of Custom Model on the Mnist testing dataset and Vice Versa"
   ]
  },
  {
   "cell_type": "code",
   "execution_count": 17,
   "metadata": {},
   "outputs": [],
   "source": [
    "from tensorflow.keras.models import load_model\n",
    "\n",
    "# Load the custom MNIST model\n",
    "custom_mnist_model = load_model('custom_mnist_model.h5')\n",
    "\n",
    "# Load the MNIST model\n",
    "mnist_model = load_model('mnist_model.h5')\n"
   ]
  },
  {
   "cell_type": "code",
   "execution_count": 18,
   "metadata": {},
   "outputs": [
    {
     "name": "stdout",
     "output_type": "stream",
     "text": [
      "313/313 [==============================] - 1s 2ms/step - loss: 2.3729 - accuracy: 0.1114\n"
     ]
    }
   ],
   "source": [
    "loss, accuracy = custom_mnist_model.evaluate(test_images, test_labels)"
   ]
  },
  {
   "cell_type": "code",
   "execution_count": 19,
   "metadata": {},
   "outputs": [
    {
     "name": "stdout",
     "output_type": "stream",
     "text": [
      "23/23 [==============================] - 0s 10ms/step - loss: 1132.9048 - accuracy: 0.1125\n"
     ]
    }
   ],
   "source": [
    "loss, accuracy = mnist_model.evaluate(validation_dataset)"
   ]
  }
 ],
 "metadata": {
  "kernelspec": {
   "display_name": "yolo_gpu",
   "language": "python",
   "name": "python3"
  },
  "language_info": {
   "codemirror_mode": {
    "name": "ipython",
    "version": 3
   },
   "file_extension": ".py",
   "mimetype": "text/x-python",
   "name": "python",
   "nbconvert_exporter": "python",
   "pygments_lexer": "ipython3",
   "version": "3.10.6"
  }
 },
 "nbformat": 4,
 "nbformat_minor": 2
}
